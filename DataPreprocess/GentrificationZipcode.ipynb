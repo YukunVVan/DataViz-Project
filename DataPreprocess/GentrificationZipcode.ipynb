{
 "cells": [
  {
   "cell_type": "code",
   "execution_count": 1,
   "metadata": {},
   "outputs": [],
   "source": [
    "import pandas as pd\n",
    "import numpy as np"
   ]
  },
  {
   "cell_type": "code",
   "execution_count": 2,
   "metadata": {},
   "outputs": [],
   "source": [
    "df = pd.read_csv(\"gentrification.csv\", index_col=0)"
   ]
  },
  {
   "cell_type": "code",
   "execution_count": 3,
   "metadata": {},
   "outputs": [
    {
     "data": {
      "text/html": [
       "<div>\n",
       "<style scoped>\n",
       "    .dataframe tbody tr th:only-of-type {\n",
       "        vertical-align: middle;\n",
       "    }\n",
       "\n",
       "    .dataframe tbody tr th {\n",
       "        vertical-align: top;\n",
       "    }\n",
       "\n",
       "    .dataframe thead th {\n",
       "        text-align: right;\n",
       "    }\n",
       "</style>\n",
       "<table border=\"1\" class=\"dataframe\">\n",
       "  <thead>\n",
       "    <tr style=\"text-align: right;\">\n",
       "      <th></th>\n",
       "      <th>zipcode</th>\n",
       "      <th>gentrification</th>\n",
       "    </tr>\n",
       "  </thead>\n",
       "  <tbody>\n",
       "    <tr>\n",
       "      <th>0</th>\n",
       "      <td>83</td>\n",
       "      <td>2</td>\n",
       "    </tr>\n",
       "    <tr>\n",
       "      <th>1</th>\n",
       "      <td>7020</td>\n",
       "      <td>2</td>\n",
       "    </tr>\n",
       "    <tr>\n",
       "      <th>2</th>\n",
       "      <td>7030</td>\n",
       "      <td>2</td>\n",
       "    </tr>\n",
       "    <tr>\n",
       "      <th>3</th>\n",
       "      <td>7114</td>\n",
       "      <td>2</td>\n",
       "    </tr>\n",
       "    <tr>\n",
       "      <th>4</th>\n",
       "      <td>10000</td>\n",
       "      <td>2</td>\n",
       "    </tr>\n",
       "  </tbody>\n",
       "</table>\n",
       "</div>"
      ],
      "text/plain": [
       "   zipcode  gentrification\n",
       "0       83               2\n",
       "1     7020               2\n",
       "2     7030               2\n",
       "3     7114               2\n",
       "4    10000               2"
      ]
     },
     "execution_count": 3,
     "metadata": {},
     "output_type": "execute_result"
    }
   ],
   "source": [
    "df.head()"
   ]
  },
  {
   "cell_type": "code",
   "execution_count": 4,
   "metadata": {},
   "outputs": [
    {
     "data": {
      "text/plain": [
       "[10451,\n",
       " 10452,\n",
       " 10453,\n",
       " 10463,\n",
       " 10468,\n",
       " 10472,\n",
       " 10473,\n",
       " 11204,\n",
       " 11208,\n",
       " 11214,\n",
       " 11223,\n",
       " 11224,\n",
       " 11239]"
      ]
     },
     "execution_count": 4,
     "metadata": {},
     "output_type": "execute_result"
    }
   ],
   "source": [
    "Non_Gentrifying = df['zipcode'][df['gentrification']==0].tolist()\n",
    "Non_Gentrifying"
   ]
  },
  {
   "cell_type": "code",
   "execution_count": 5,
   "metadata": {},
   "outputs": [
    {
     "data": {
      "text/plain": [
       "13"
      ]
     },
     "execution_count": 5,
     "metadata": {},
     "output_type": "execute_result"
    }
   ],
   "source": [
    "len(Non_Gentrifying)"
   ]
  },
  {
   "cell_type": "code",
   "execution_count": 6,
   "metadata": {},
   "outputs": [
    {
     "data": {
      "text/plain": [
       "[10002,\n",
       " 10003,\n",
       " 10009,\n",
       " 10026,\n",
       " 10027,\n",
       " 10029,\n",
       " 10030,\n",
       " 10031,\n",
       " 10032,\n",
       " 10033,\n",
       " 10034,\n",
       " 10035,\n",
       " 10037,\n",
       " 10039,\n",
       " 10040,\n",
       " 10454,\n",
       " 10455,\n",
       " 10456,\n",
       " 10457,\n",
       " 10458,\n",
       " 10459,\n",
       " 10460,\n",
       " 10474,\n",
       " 11102,\n",
       " 11103,\n",
       " 11105,\n",
       " 11106,\n",
       " 11206,\n",
       " 11211,\n",
       " 11212,\n",
       " 11213,\n",
       " 11216,\n",
       " 11220,\n",
       " 11221,\n",
       " 11222,\n",
       " 11225,\n",
       " 11232,\n",
       " 11233,\n",
       " 11237,\n",
       " 11249,\n",
       " 11370]"
      ]
     },
     "execution_count": 6,
     "metadata": {},
     "output_type": "execute_result"
    }
   ],
   "source": [
    "Gentrifying = df['zipcode'][df['gentrification']==1].tolist()\n",
    "Gentrifying"
   ]
  },
  {
   "cell_type": "code",
   "execution_count": 7,
   "metadata": {},
   "outputs": [
    {
     "data": {
      "text/plain": [
       "41"
      ]
     },
     "execution_count": 7,
     "metadata": {},
     "output_type": "execute_result"
    }
   ],
   "source": [
    "len(Gentrifying)"
   ]
  },
  {
   "cell_type": "code",
   "execution_count": 8,
   "metadata": {
    "scrolled": false
   },
   "outputs": [
    {
     "data": {
      "text/plain": [
       "[83,\n",
       " 7020,\n",
       " 7030,\n",
       " 7114,\n",
       " 10000,\n",
       " 10001,\n",
       " 10004,\n",
       " 10005,\n",
       " 10006,\n",
       " 10007,\n",
       " 10010,\n",
       " 10011,\n",
       " 10012,\n",
       " 10013,\n",
       " 10014,\n",
       " 10016,\n",
       " 10017,\n",
       " 10018,\n",
       " 10019,\n",
       " 10020,\n",
       " 10021,\n",
       " 10022,\n",
       " 10023,\n",
       " 10024,\n",
       " 10025,\n",
       " 10028,\n",
       " 10036,\n",
       " 10038,\n",
       " 10041,\n",
       " 10044,\n",
       " 10045,\n",
       " 10048,\n",
       " 10055,\n",
       " 10065,\n",
       " 10069,\n",
       " 10075,\n",
       " 10103,\n",
       " 10104,\n",
       " 10105,\n",
       " 10107,\n",
       " 10111,\n",
       " 10112,\n",
       " 10118,\n",
       " 10119,\n",
       " 10120,\n",
       " 10121,\n",
       " 10122,\n",
       " 10123,\n",
       " 10128,\n",
       " 10129,\n",
       " 10153,\n",
       " 10154,\n",
       " 10155,\n",
       " 10158,\n",
       " 10162,\n",
       " 10165,\n",
       " 10166,\n",
       " 10167,\n",
       " 10168,\n",
       " 10169,\n",
       " 10170,\n",
       " 10171,\n",
       " 10172,\n",
       " 10173,\n",
       " 10177,\n",
       " 10178,\n",
       " 10179,\n",
       " 10270,\n",
       " 10271,\n",
       " 10278,\n",
       " 10279,\n",
       " 10280,\n",
       " 10281,\n",
       " 10282,\n",
       " 10301,\n",
       " 10302,\n",
       " 10303,\n",
       " 10304,\n",
       " 10305,\n",
       " 10306,\n",
       " 10307,\n",
       " 10308,\n",
       " 10309,\n",
       " 10310,\n",
       " 10312,\n",
       " 10314,\n",
       " 10461,\n",
       " 10462,\n",
       " 10464,\n",
       " 10465,\n",
       " 10466,\n",
       " 10467,\n",
       " 10469,\n",
       " 10470,\n",
       " 10471,\n",
       " 10475,\n",
       " 10507,\n",
       " 10704,\n",
       " 10803,\n",
       " 11001,\n",
       " 11004,\n",
       " 11005,\n",
       " 11040,\n",
       " 11101,\n",
       " 11104,\n",
       " 11109,\n",
       " 11201,\n",
       " 11203,\n",
       " 11205,\n",
       " 11207,\n",
       " 11209,\n",
       " 11210,\n",
       " 11215,\n",
       " 11217,\n",
       " 11218,\n",
       " 11219,\n",
       " 11226,\n",
       " 11228,\n",
       " 11229,\n",
       " 11230,\n",
       " 11231,\n",
       " 11234,\n",
       " 11235,\n",
       " 11236,\n",
       " 11238,\n",
       " 11241,\n",
       " 11242,\n",
       " 11251,\n",
       " 11354,\n",
       " 11355,\n",
       " 11356,\n",
       " 11357,\n",
       " 11358,\n",
       " 11359,\n",
       " 11360,\n",
       " 11361,\n",
       " 11362,\n",
       " 11363,\n",
       " 11364,\n",
       " 11365,\n",
       " 11366,\n",
       " 11367,\n",
       " 11368,\n",
       " 11369,\n",
       " 11371,\n",
       " 11372,\n",
       " 11373,\n",
       " 11374,\n",
       " 11375,\n",
       " 11377,\n",
       " 11378,\n",
       " 11379,\n",
       " 11385,\n",
       " 11411,\n",
       " 11412,\n",
       " 11413,\n",
       " 11414,\n",
       " 11415,\n",
       " 11416,\n",
       " 11417,\n",
       " 11418,\n",
       " 11419,\n",
       " 11420,\n",
       " 11421,\n",
       " 11422,\n",
       " 11423,\n",
       " 11426,\n",
       " 11427,\n",
       " 11428,\n",
       " 11429,\n",
       " 11430,\n",
       " 11432,\n",
       " 11433,\n",
       " 11434,\n",
       " 11435,\n",
       " 11436,\n",
       " 11530,\n",
       " 11691,\n",
       " 11692,\n",
       " 11693,\n",
       " 11694,\n",
       " 11695,\n",
       " 11697]"
      ]
     },
     "execution_count": 8,
     "metadata": {},
     "output_type": "execute_result"
    }
   ],
   "source": [
    "Higher_income = df['zipcode'][df['gentrification']==2].tolist()\n",
    "Higher_income"
   ]
  },
  {
   "cell_type": "code",
   "execution_count": 9,
   "metadata": {},
   "outputs": [
    {
     "data": {
      "text/plain": [
       "183"
      ]
     },
     "execution_count": 9,
     "metadata": {},
     "output_type": "execute_result"
    }
   ],
   "source": [
    "len(Higher_income)"
   ]
  }
 ],
 "metadata": {
  "kernelspec": {
   "display_name": "Python 3",
   "language": "python",
   "name": "python3"
  },
  "language_info": {
   "codemirror_mode": {
    "name": "ipython",
    "version": 3
   },
   "file_extension": ".py",
   "mimetype": "text/x-python",
   "name": "python",
   "nbconvert_exporter": "python",
   "pygments_lexer": "ipython3",
   "version": "3.6.4"
  }
 },
 "nbformat": 4,
 "nbformat_minor": 2
}
