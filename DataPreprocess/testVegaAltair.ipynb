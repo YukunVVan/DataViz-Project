{
 "cells": [
  {
   "cell_type": "code",
   "execution_count": 1,
   "metadata": {
    "ExecuteTime": {
     "end_time": "2018-05-06T03:43:23.274297Z",
     "start_time": "2018-05-06T03:43:21.400693Z"
    }
   },
   "outputs": [],
   "source": [
    "import altair as alt\n",
    "\n",
    "# This is to enable visualization rendering inside the notebook,\n",
    "# similar to the inline instruction from matplotlib.\n",
    "alt.renderers.enable('notebook')"
   ]
  },
  {
   "cell_type": "code",
   "execution_count": 2,
   "metadata": {
    "ExecuteTime": {
     "end_time": "2018-05-06T03:44:08.908026Z",
     "start_time": "2018-05-06T03:44:08.862129Z"
    }
   },
   "outputs": [
    {
     "name": "stderr",
     "output_type": "stream",
     "text": [
      "/Users/wanyukun/Documents/Dataviz/viz/lib/python3.6/site-packages/psycopg2/__init__.py:144: UserWarning: The psycopg2 wheel package will be renamed from release 2.8; in order to keep installing from binary please use \"pip install psycopg2-binary\" instead. For details see: <http://initd.org/psycopg/docs/install.html#binary-install-from-pypi>.\n",
      "  \"\"\")\n"
     ]
    }
   ],
   "source": [
    "import pandas as pd\n",
    "import json\n",
    "import psycopg2"
   ]
  },
  {
   "cell_type": "code",
   "execution_count": 5,
   "metadata": {
    "ExecuteTime": {
     "end_time": "2018-05-06T03:45:47.347319Z",
     "start_time": "2018-05-06T03:45:47.341559Z"
    }
   },
   "outputs": [],
   "source": [
    "host = \"datavis.cauuh8vzeelb.us-east-1.rds.amazonaws.com\"\n",
    "database = \"top5\"\n",
    "user = \"teamwonder\"\n",
    "password = \"visproject\""
   ]
  },
  {
   "cell_type": "code",
   "execution_count": 41,
   "metadata": {
    "ExecuteTime": {
     "end_time": "2018-05-06T04:40:54.029425Z",
     "start_time": "2018-05-06T04:40:54.017731Z"
    }
   },
   "outputs": [],
   "source": [
    "def getData(by,filter):\n",
    "    host = \"datavis.cauuh8vzeelb.us-east-1.rds.amazonaws.com\"\n",
    "    database = \"top5\"\n",
    "    user = \"teamwonder\"\n",
    "    password = \"visproject\"\n",
    "\n",
    "    if by == 'year':\n",
    "        by = \"SUBSTRING(date, 1, 7)\"\n",
    "    \n",
    "    qfilter = []\n",
    "    for f in filter:\n",
    "        if filter[f] == 'all':\n",
    "            continue\n",
    "        if f == \"fromyear\":\n",
    "            qfilter.append(\"date > \"+str(filter[f]))\n",
    "            continue\n",
    "        if f == \"toyear\":\n",
    "            qfilter.append(\"date < \"+str(filter[f]))\n",
    "            continue\n",
    "        qfilter.append(str(f)+' = '+str(filter[f]))\n",
    "\n",
    "    if qfilter:\n",
    "        querytext = (\"SELECT \" + by + \", COUNT(gid) FROM tabletop5 \" +\n",
    "                     \"WHERE \" + \" AND \".join(qfilter) + \" GROUP BY \"+ by + \" ORDER BY \"+by+ \";\")\n",
    "    else:\n",
    "        querytext = (\"SELECT \" + by + \", COUNT(gid) FROM tabletop5 \" +\n",
    "                     \" GROUP BY \"+ by + \" ORDER BY \"+by+\";\")\n",
    "    print(querytext)\n",
    "    \n",
    "    con = psycopg2.connect(host=host, database=database, user=user, password=password)\n",
    "    cur = con.cursor()\n",
    "    cur.execute(querytext)\n",
    "    rows = cur.fetchall()\n",
    "    return rows"
   ]
  },
  {
   "cell_type": "code",
   "execution_count": 36,
   "metadata": {
    "ExecuteTime": {
     "end_time": "2018-05-06T04:39:38.684879Z",
     "start_time": "2018-05-06T04:39:38.681771Z"
    }
   },
   "outputs": [],
   "source": [
    "querytext = (\"SELECT * FROM tabletop5 \" +\n",
    "                     \" where complaint_ = 'Air Quality';\")"
   ]
  },
  {
   "cell_type": "code",
   "execution_count": 37,
   "metadata": {
    "ExecuteTime": {
     "end_time": "2018-05-06T04:39:41.984440Z",
     "start_time": "2018-05-06T04:39:40.695278Z"
    }
   },
   "outputs": [],
   "source": [
    "con = psycopg2.connect(host=host, database=database, user=user, password=password)\n",
    "cur = con.cursor()\n",
    "cur.execute(querytext)\n",
    "rows = cur.fetchall()"
   ]
  },
  {
   "cell_type": "code",
   "execution_count": 40,
   "metadata": {
    "ExecuteTime": {
     "end_time": "2018-05-06T04:40:00.197787Z",
     "start_time": "2018-05-06T04:40:00.190905Z"
    }
   },
   "outputs": [
    {
     "data": {
      "text/plain": [
       "(2,\n",
       " 1,\n",
       " 'Air Quality',\n",
       " '10023',\n",
       " Decimal('40.776106560588481'),\n",
       " Decimal('-73.979744680840554'),\n",
       " '2016-03-05',\n",
       " '0101000020E6100000F8A80823B47E52C023F8B37557634440')"
      ]
     },
     "execution_count": 40,
     "metadata": {},
     "output_type": "execute_result"
    }
   ],
   "source": [
    "rows[0]"
   ]
  },
  {
   "cell_type": "code",
   "execution_count": 42,
   "metadata": {
    "ExecuteTime": {
     "end_time": "2018-05-06T04:41:26.755393Z",
     "start_time": "2018-05-06T04:41:26.750511Z"
    }
   },
   "outputs": [],
   "source": [
    "filter = {\"incident_z\":\"'10001'\",\"complaint_\":\"all\",\"fromyear\":\"all\",\"toyear\":\"'2018'\"}"
   ]
  },
  {
   "cell_type": "code",
   "execution_count": 43,
   "metadata": {
    "ExecuteTime": {
     "end_time": "2018-05-06T04:41:30.486957Z",
     "start_time": "2018-05-06T04:41:30.094542Z"
    }
   },
   "outputs": [
    {
     "name": "stdout",
     "output_type": "stream",
     "text": [
      "SELECT SUBSTRING(date, 1, 7), COUNT(gid) FROM tabletop5 WHERE incident_z = '10001' AND date < '2018' GROUP BY SUBSTRING(date, 1, 7) ORDER BY SUBSTRING(date, 1, 7);\n"
     ]
    }
   ],
   "source": [
    "k = getData('year',filter)"
   ]
  },
  {
   "cell_type": "code",
   "execution_count": 44,
   "metadata": {
    "ExecuteTime": {
     "end_time": "2018-05-06T04:41:31.617892Z",
     "start_time": "2018-05-06T04:41:31.609809Z"
    }
   },
   "outputs": [],
   "source": [
    "a = pd.DataFrame(k,columns=['year','count'])"
   ]
  },
  {
   "cell_type": "code",
   "execution_count": 45,
   "metadata": {
    "ExecuteTime": {
     "end_time": "2018-05-06T04:41:35.053698Z",
     "start_time": "2018-05-06T04:41:35.033661Z"
    }
   },
   "outputs": [
    {
     "data": {
      "text/html": [
       "<div>\n",
       "<style scoped>\n",
       "    .dataframe tbody tr th:only-of-type {\n",
       "        vertical-align: middle;\n",
       "    }\n",
       "\n",
       "    .dataframe tbody tr th {\n",
       "        vertical-align: top;\n",
       "    }\n",
       "\n",
       "    .dataframe thead th {\n",
       "        text-align: right;\n",
       "    }\n",
       "</style>\n",
       "<table border=\"1\" class=\"dataframe\">\n",
       "  <thead>\n",
       "    <tr style=\"text-align: right;\">\n",
       "      <th></th>\n",
       "      <th>year</th>\n",
       "      <th>count</th>\n",
       "    </tr>\n",
       "  </thead>\n",
       "  <tbody>\n",
       "    <tr>\n",
       "      <th>0</th>\n",
       "      <td>2013-01</td>\n",
       "      <td>58</td>\n",
       "    </tr>\n",
       "    <tr>\n",
       "      <th>1</th>\n",
       "      <td>2013-02</td>\n",
       "      <td>54</td>\n",
       "    </tr>\n",
       "    <tr>\n",
       "      <th>2</th>\n",
       "      <td>2013-03</td>\n",
       "      <td>74</td>\n",
       "    </tr>\n",
       "    <tr>\n",
       "      <th>3</th>\n",
       "      <td>2013-04</td>\n",
       "      <td>79</td>\n",
       "    </tr>\n",
       "    <tr>\n",
       "      <th>4</th>\n",
       "      <td>2013-05</td>\n",
       "      <td>83</td>\n",
       "    </tr>\n",
       "    <tr>\n",
       "      <th>5</th>\n",
       "      <td>2013-06</td>\n",
       "      <td>75</td>\n",
       "    </tr>\n",
       "    <tr>\n",
       "      <th>6</th>\n",
       "      <td>2013-07</td>\n",
       "      <td>75</td>\n",
       "    </tr>\n",
       "    <tr>\n",
       "      <th>7</th>\n",
       "      <td>2013-08</td>\n",
       "      <td>62</td>\n",
       "    </tr>\n",
       "    <tr>\n",
       "      <th>8</th>\n",
       "      <td>2013-09</td>\n",
       "      <td>81</td>\n",
       "    </tr>\n",
       "    <tr>\n",
       "      <th>9</th>\n",
       "      <td>2013-10</td>\n",
       "      <td>68</td>\n",
       "    </tr>\n",
       "    <tr>\n",
       "      <th>10</th>\n",
       "      <td>2013-11</td>\n",
       "      <td>80</td>\n",
       "    </tr>\n",
       "    <tr>\n",
       "      <th>11</th>\n",
       "      <td>2013-12</td>\n",
       "      <td>89</td>\n",
       "    </tr>\n",
       "    <tr>\n",
       "      <th>12</th>\n",
       "      <td>2014-01</td>\n",
       "      <td>60</td>\n",
       "    </tr>\n",
       "    <tr>\n",
       "      <th>13</th>\n",
       "      <td>2014-02</td>\n",
       "      <td>62</td>\n",
       "    </tr>\n",
       "    <tr>\n",
       "      <th>14</th>\n",
       "      <td>2014-03</td>\n",
       "      <td>81</td>\n",
       "    </tr>\n",
       "    <tr>\n",
       "      <th>15</th>\n",
       "      <td>2014-04</td>\n",
       "      <td>58</td>\n",
       "    </tr>\n",
       "    <tr>\n",
       "      <th>16</th>\n",
       "      <td>2014-05</td>\n",
       "      <td>77</td>\n",
       "    </tr>\n",
       "    <tr>\n",
       "      <th>17</th>\n",
       "      <td>2014-06</td>\n",
       "      <td>109</td>\n",
       "    </tr>\n",
       "    <tr>\n",
       "      <th>18</th>\n",
       "      <td>2014-07</td>\n",
       "      <td>73</td>\n",
       "    </tr>\n",
       "    <tr>\n",
       "      <th>19</th>\n",
       "      <td>2014-08</td>\n",
       "      <td>64</td>\n",
       "    </tr>\n",
       "    <tr>\n",
       "      <th>20</th>\n",
       "      <td>2014-09</td>\n",
       "      <td>70</td>\n",
       "    </tr>\n",
       "    <tr>\n",
       "      <th>21</th>\n",
       "      <td>2014-10</td>\n",
       "      <td>79</td>\n",
       "    </tr>\n",
       "    <tr>\n",
       "      <th>22</th>\n",
       "      <td>2014-11</td>\n",
       "      <td>63</td>\n",
       "    </tr>\n",
       "    <tr>\n",
       "      <th>23</th>\n",
       "      <td>2014-12</td>\n",
       "      <td>66</td>\n",
       "    </tr>\n",
       "    <tr>\n",
       "      <th>24</th>\n",
       "      <td>2015-01</td>\n",
       "      <td>44</td>\n",
       "    </tr>\n",
       "    <tr>\n",
       "      <th>25</th>\n",
       "      <td>2015-02</td>\n",
       "      <td>70</td>\n",
       "    </tr>\n",
       "    <tr>\n",
       "      <th>26</th>\n",
       "      <td>2015-03</td>\n",
       "      <td>70</td>\n",
       "    </tr>\n",
       "    <tr>\n",
       "      <th>27</th>\n",
       "      <td>2015-04</td>\n",
       "      <td>79</td>\n",
       "    </tr>\n",
       "    <tr>\n",
       "      <th>28</th>\n",
       "      <td>2015-05</td>\n",
       "      <td>73</td>\n",
       "    </tr>\n",
       "    <tr>\n",
       "      <th>29</th>\n",
       "      <td>2015-06</td>\n",
       "      <td>110</td>\n",
       "    </tr>\n",
       "    <tr>\n",
       "      <th>30</th>\n",
       "      <td>2015-07</td>\n",
       "      <td>86</td>\n",
       "    </tr>\n",
       "    <tr>\n",
       "      <th>31</th>\n",
       "      <td>2015-08</td>\n",
       "      <td>73</td>\n",
       "    </tr>\n",
       "    <tr>\n",
       "      <th>32</th>\n",
       "      <td>2015-09</td>\n",
       "      <td>94</td>\n",
       "    </tr>\n",
       "    <tr>\n",
       "      <th>33</th>\n",
       "      <td>2015-10</td>\n",
       "      <td>90</td>\n",
       "    </tr>\n",
       "    <tr>\n",
       "      <th>34</th>\n",
       "      <td>2015-11</td>\n",
       "      <td>79</td>\n",
       "    </tr>\n",
       "    <tr>\n",
       "      <th>35</th>\n",
       "      <td>2015-12</td>\n",
       "      <td>91</td>\n",
       "    </tr>\n",
       "    <tr>\n",
       "      <th>36</th>\n",
       "      <td>2016-01</td>\n",
       "      <td>52</td>\n",
       "    </tr>\n",
       "    <tr>\n",
       "      <th>37</th>\n",
       "      <td>2016-02</td>\n",
       "      <td>49</td>\n",
       "    </tr>\n",
       "    <tr>\n",
       "      <th>38</th>\n",
       "      <td>2016-03</td>\n",
       "      <td>73</td>\n",
       "    </tr>\n",
       "    <tr>\n",
       "      <th>39</th>\n",
       "      <td>2016-04</td>\n",
       "      <td>72</td>\n",
       "    </tr>\n",
       "    <tr>\n",
       "      <th>40</th>\n",
       "      <td>2016-05</td>\n",
       "      <td>82</td>\n",
       "    </tr>\n",
       "    <tr>\n",
       "      <th>41</th>\n",
       "      <td>2016-06</td>\n",
       "      <td>68</td>\n",
       "    </tr>\n",
       "    <tr>\n",
       "      <th>42</th>\n",
       "      <td>2016-07</td>\n",
       "      <td>60</td>\n",
       "    </tr>\n",
       "    <tr>\n",
       "      <th>43</th>\n",
       "      <td>2016-08</td>\n",
       "      <td>77</td>\n",
       "    </tr>\n",
       "    <tr>\n",
       "      <th>44</th>\n",
       "      <td>2016-09</td>\n",
       "      <td>63</td>\n",
       "    </tr>\n",
       "    <tr>\n",
       "      <th>45</th>\n",
       "      <td>2016-10</td>\n",
       "      <td>59</td>\n",
       "    </tr>\n",
       "    <tr>\n",
       "      <th>46</th>\n",
       "      <td>2016-11</td>\n",
       "      <td>62</td>\n",
       "    </tr>\n",
       "    <tr>\n",
       "      <th>47</th>\n",
       "      <td>2016-12</td>\n",
       "      <td>58</td>\n",
       "    </tr>\n",
       "    <tr>\n",
       "      <th>48</th>\n",
       "      <td>2017-01</td>\n",
       "      <td>37</td>\n",
       "    </tr>\n",
       "    <tr>\n",
       "      <th>49</th>\n",
       "      <td>2017-02</td>\n",
       "      <td>39</td>\n",
       "    </tr>\n",
       "    <tr>\n",
       "      <th>50</th>\n",
       "      <td>2017-03</td>\n",
       "      <td>51</td>\n",
       "    </tr>\n",
       "    <tr>\n",
       "      <th>51</th>\n",
       "      <td>2017-04</td>\n",
       "      <td>53</td>\n",
       "    </tr>\n",
       "    <tr>\n",
       "      <th>52</th>\n",
       "      <td>2017-05</td>\n",
       "      <td>75</td>\n",
       "    </tr>\n",
       "    <tr>\n",
       "      <th>53</th>\n",
       "      <td>2017-06</td>\n",
       "      <td>71</td>\n",
       "    </tr>\n",
       "    <tr>\n",
       "      <th>54</th>\n",
       "      <td>2017-07</td>\n",
       "      <td>63</td>\n",
       "    </tr>\n",
       "    <tr>\n",
       "      <th>55</th>\n",
       "      <td>2017-08</td>\n",
       "      <td>48</td>\n",
       "    </tr>\n",
       "    <tr>\n",
       "      <th>56</th>\n",
       "      <td>2017-09</td>\n",
       "      <td>93</td>\n",
       "    </tr>\n",
       "    <tr>\n",
       "      <th>57</th>\n",
       "      <td>2017-10</td>\n",
       "      <td>94</td>\n",
       "    </tr>\n",
       "    <tr>\n",
       "      <th>58</th>\n",
       "      <td>2017-11</td>\n",
       "      <td>54</td>\n",
       "    </tr>\n",
       "    <tr>\n",
       "      <th>59</th>\n",
       "      <td>2017-12</td>\n",
       "      <td>79</td>\n",
       "    </tr>\n",
       "  </tbody>\n",
       "</table>\n",
       "</div>"
      ],
      "text/plain": [
       "       year  count\n",
       "0   2013-01     58\n",
       "1   2013-02     54\n",
       "2   2013-03     74\n",
       "3   2013-04     79\n",
       "4   2013-05     83\n",
       "5   2013-06     75\n",
       "6   2013-07     75\n",
       "7   2013-08     62\n",
       "8   2013-09     81\n",
       "9   2013-10     68\n",
       "10  2013-11     80\n",
       "11  2013-12     89\n",
       "12  2014-01     60\n",
       "13  2014-02     62\n",
       "14  2014-03     81\n",
       "15  2014-04     58\n",
       "16  2014-05     77\n",
       "17  2014-06    109\n",
       "18  2014-07     73\n",
       "19  2014-08     64\n",
       "20  2014-09     70\n",
       "21  2014-10     79\n",
       "22  2014-11     63\n",
       "23  2014-12     66\n",
       "24  2015-01     44\n",
       "25  2015-02     70\n",
       "26  2015-03     70\n",
       "27  2015-04     79\n",
       "28  2015-05     73\n",
       "29  2015-06    110\n",
       "30  2015-07     86\n",
       "31  2015-08     73\n",
       "32  2015-09     94\n",
       "33  2015-10     90\n",
       "34  2015-11     79\n",
       "35  2015-12     91\n",
       "36  2016-01     52\n",
       "37  2016-02     49\n",
       "38  2016-03     73\n",
       "39  2016-04     72\n",
       "40  2016-05     82\n",
       "41  2016-06     68\n",
       "42  2016-07     60\n",
       "43  2016-08     77\n",
       "44  2016-09     63\n",
       "45  2016-10     59\n",
       "46  2016-11     62\n",
       "47  2016-12     58\n",
       "48  2017-01     37\n",
       "49  2017-02     39\n",
       "50  2017-03     51\n",
       "51  2017-04     53\n",
       "52  2017-05     75\n",
       "53  2017-06     71\n",
       "54  2017-07     63\n",
       "55  2017-08     48\n",
       "56  2017-09     93\n",
       "57  2017-10     94\n",
       "58  2017-11     54\n",
       "59  2017-12     79"
      ]
     },
     "execution_count": 45,
     "metadata": {},
     "output_type": "execute_result"
    }
   ],
   "source": [
    "a"
   ]
  },
  {
   "cell_type": "code",
   "execution_count": null,
   "metadata": {},
   "outputs": [],
   "source": []
  },
  {
   "cell_type": "code",
   "execution_count": null,
   "metadata": {},
   "outputs": [],
   "source": []
  },
  {
   "cell_type": "code",
   "execution_count": 46,
   "metadata": {
    "ExecuteTime": {
     "end_time": "2018-05-06T04:41:45.456290Z",
     "start_time": "2018-05-06T04:41:45.410220Z"
    }
   },
   "outputs": [
    {
     "data": {
      "text/html": [
       "<div class=\"vega-embed\" id=\"5be1e979-64e8-495b-97c5-8a8887f8742f\"></div>\n",
       "\n",
       "<style>\n",
       ".vega-embed .vega-actions > a {\n",
       "    transition: opacity 200ms ease-in;\n",
       "    opacity: 0.3;\n",
       "    margin-right: 0.6em;\n",
       "    color: #444;\n",
       "    text-decoration: none;\n",
       "}\n",
       "\n",
       ".vega-embed .vega-actions > a:hover {\n",
       "    color: #000;\n",
       "    text-decoration: underline;\n",
       "}\n",
       "\n",
       ".vega-embed:hover .vega-actions > a {\n",
       "    opacity: 1;\n",
       "    transition: 0s;\n",
       "}\n",
       "\n",
       ".vega-embed .error p {\n",
       "    color: firebrick;\n",
       "    font-size: 1.2em;\n",
       "}\n",
       "</style>\n"
      ]
     },
     "metadata": {
      "jupyter-vega3": "#5be1e979-64e8-495b-97c5-8a8887f8742f"
     },
     "output_type": "display_data"
    },
    {
     "data": {
      "application/javascript": [
       "var spec = {\"config\": {\"view\": {\"width\": 400, \"height\": 300}}, \"data\": {\"values\": [{\"year\": \"2013-01\", \"count\": 58}, {\"year\": \"2013-02\", \"count\": 54}, {\"year\": \"2013-03\", \"count\": 74}, {\"year\": \"2013-04\", \"count\": 79}, {\"year\": \"2013-05\", \"count\": 83}, {\"year\": \"2013-06\", \"count\": 75}, {\"year\": \"2013-07\", \"count\": 75}, {\"year\": \"2013-08\", \"count\": 62}, {\"year\": \"2013-09\", \"count\": 81}, {\"year\": \"2013-10\", \"count\": 68}, {\"year\": \"2013-11\", \"count\": 80}, {\"year\": \"2013-12\", \"count\": 89}, {\"year\": \"2014-01\", \"count\": 60}, {\"year\": \"2014-02\", \"count\": 62}, {\"year\": \"2014-03\", \"count\": 81}, {\"year\": \"2014-04\", \"count\": 58}, {\"year\": \"2014-05\", \"count\": 77}, {\"year\": \"2014-06\", \"count\": 109}, {\"year\": \"2014-07\", \"count\": 73}, {\"year\": \"2014-08\", \"count\": 64}, {\"year\": \"2014-09\", \"count\": 70}, {\"year\": \"2014-10\", \"count\": 79}, {\"year\": \"2014-11\", \"count\": 63}, {\"year\": \"2014-12\", \"count\": 66}, {\"year\": \"2015-01\", \"count\": 44}, {\"year\": \"2015-02\", \"count\": 70}, {\"year\": \"2015-03\", \"count\": 70}, {\"year\": \"2015-04\", \"count\": 79}, {\"year\": \"2015-05\", \"count\": 73}, {\"year\": \"2015-06\", \"count\": 110}, {\"year\": \"2015-07\", \"count\": 86}, {\"year\": \"2015-08\", \"count\": 73}, {\"year\": \"2015-09\", \"count\": 94}, {\"year\": \"2015-10\", \"count\": 90}, {\"year\": \"2015-11\", \"count\": 79}, {\"year\": \"2015-12\", \"count\": 91}, {\"year\": \"2016-01\", \"count\": 52}, {\"year\": \"2016-02\", \"count\": 49}, {\"year\": \"2016-03\", \"count\": 73}, {\"year\": \"2016-04\", \"count\": 72}, {\"year\": \"2016-05\", \"count\": 82}, {\"year\": \"2016-06\", \"count\": 68}, {\"year\": \"2016-07\", \"count\": 60}, {\"year\": \"2016-08\", \"count\": 77}, {\"year\": \"2016-09\", \"count\": 63}, {\"year\": \"2016-10\", \"count\": 59}, {\"year\": \"2016-11\", \"count\": 62}, {\"year\": \"2016-12\", \"count\": 58}, {\"year\": \"2017-01\", \"count\": 37}, {\"year\": \"2017-02\", \"count\": 39}, {\"year\": \"2017-03\", \"count\": 51}, {\"year\": \"2017-04\", \"count\": 53}, {\"year\": \"2017-05\", \"count\": 75}, {\"year\": \"2017-06\", \"count\": 71}, {\"year\": \"2017-07\", \"count\": 63}, {\"year\": \"2017-08\", \"count\": 48}, {\"year\": \"2017-09\", \"count\": 93}, {\"year\": \"2017-10\", \"count\": 94}, {\"year\": \"2017-11\", \"count\": 54}, {\"year\": \"2017-12\", \"count\": 79}]}, \"mark\": \"line\", \"encoding\": {\"x\": {\"type\": \"nominal\", \"field\": \"year\"}, \"y\": {\"type\": \"quantitative\", \"field\": \"count\"}}, \"$schema\": \"https://vega.github.io/schema/vega-lite/v2.3.0.json\"};\n",
       "var opt = {};\n",
       "var selector = \"#5be1e979-64e8-495b-97c5-8a8887f8742f\";\n",
       "var type = \"vega-lite\";\n",
       "\n",
       "var output_area = this;\n",
       "\n",
       "require(['nbextensions/jupyter-vega3/index'], function(vega) {\n",
       "  vega.render(selector, spec, type, opt, output_area);\n",
       "}, function (err) {\n",
       "  if (err.requireType !== 'scripterror') {\n",
       "    throw(err);\n",
       "  }\n",
       "});\n"
      ]
     },
     "metadata": {
      "jupyter-vega3": "#5be1e979-64e8-495b-97c5-8a8887f8742f"
     },
     "output_type": "display_data"
    },
    {
     "data": {
      "text/plain": []
     },
     "execution_count": 46,
     "metadata": {},
     "output_type": "execute_result"
    },
    {
     "data": {
      "image/png": "[encoded data removed]"
     },
     "metadata": {
      "jupyter-vega3": "#5be1e979-64e8-495b-97c5-8a8887f8742f"
     },
     "output_type": "display_data"
    }
   ],
   "source": [
    "from vega_datasets import data\n",
    "\n",
    "cars = data.cars()\n",
    "\n",
    "line = alt.Chart(a).mark_line().encode(\n",
    "    x='year',\n",
    "    y='count'\n",
    ")\n",
    "\n",
    "# confidence_interval = alt.Chart(cars).mark_area(opacity=0.3).encode(\n",
    "#     x='Year',\n",
    "#     y=alt.Y('ci0(Miles_per_Gallon)', axis=alt.Axis(title='Miles/Gallon')),\n",
    "#     y2='ci1(Miles_per_Gallon)'\n",
    "# )\n",
    "\n",
    "# confidence_interval + line\n",
    "line"
   ]
  },
  {
   "cell_type": "code",
   "execution_count": 47,
   "metadata": {
    "ExecuteTime": {
     "end_time": "2018-05-06T04:44:15.628059Z",
     "start_time": "2018-05-06T04:44:15.608302Z"
    }
   },
   "outputs": [
    {
     "data": {
      "text/plain": [
       "'{\\n  \"$schema\": \"https://vega.github.io/schema/vega-lite/v2.3.0.json\",\\n  \"config\": {\\n    \"view\": {\\n      \"height\": 300,\\n      \"width\": 400\\n    }\\n  },\\n  \"data\": {\\n    \"values\": [\\n      {\\n        \"count\": 58,\\n        \"year\": \"2013-01\"\\n      },\\n      {\\n        \"count\": 54,\\n        \"year\": \"2013-02\"\\n      },\\n      {\\n        \"count\": 74,\\n        \"year\": \"2013-03\"\\n      },\\n      {\\n        \"count\": 79,\\n        \"year\": \"2013-04\"\\n      },\\n      {\\n        \"count\": 83,\\n        \"year\": \"2013-05\"\\n      },\\n      {\\n        \"count\": 75,\\n        \"year\": \"2013-06\"\\n      },\\n      {\\n        \"count\": 75,\\n        \"year\": \"2013-07\"\\n      },\\n      {\\n        \"count\": 62,\\n        \"year\": \"2013-08\"\\n      },\\n      {\\n        \"count\": 81,\\n        \"year\": \"2013-09\"\\n      },\\n      {\\n        \"count\": 68,\\n        \"year\": \"2013-10\"\\n      },\\n      {\\n        \"count\": 80,\\n        \"year\": \"2013-11\"\\n      },\\n      {\\n        \"count\": 89,\\n        \"year\": \"2013-12\"\\n      },\\n      {\\n        \"count\": 60,\\n        \"year\": \"2014-01\"\\n      },\\n      {\\n        \"count\": 62,\\n        \"year\": \"2014-02\"\\n      },\\n      {\\n        \"count\": 81,\\n        \"year\": \"2014-03\"\\n      },\\n      {\\n        \"count\": 58,\\n        \"year\": \"2014-04\"\\n      },\\n      {\\n        \"count\": 77,\\n        \"year\": \"2014-05\"\\n      },\\n      {\\n        \"count\": 109,\\n        \"year\": \"2014-06\"\\n      },\\n      {\\n        \"count\": 73,\\n        \"year\": \"2014-07\"\\n      },\\n      {\\n        \"count\": 64,\\n        \"year\": \"2014-08\"\\n      },\\n      {\\n        \"count\": 70,\\n        \"year\": \"2014-09\"\\n      },\\n      {\\n        \"count\": 79,\\n        \"year\": \"2014-10\"\\n      },\\n      {\\n        \"count\": 63,\\n        \"year\": \"2014-11\"\\n      },\\n      {\\n        \"count\": 66,\\n        \"year\": \"2014-12\"\\n      },\\n      {\\n        \"count\": 44,\\n        \"year\": \"2015-01\"\\n      },\\n      {\\n        \"count\": 70,\\n        \"year\": \"2015-02\"\\n      },\\n      {\\n        \"count\": 70,\\n        \"year\": \"2015-03\"\\n      },\\n      {\\n        \"count\": 79,\\n        \"year\": \"2015-04\"\\n      },\\n      {\\n        \"count\": 73,\\n        \"year\": \"2015-05\"\\n      },\\n      {\\n        \"count\": 110,\\n        \"year\": \"2015-06\"\\n      },\\n      {\\n        \"count\": 86,\\n        \"year\": \"2015-07\"\\n      },\\n      {\\n        \"count\": 73,\\n        \"year\": \"2015-08\"\\n      },\\n      {\\n        \"count\": 94,\\n        \"year\": \"2015-09\"\\n      },\\n      {\\n        \"count\": 90,\\n        \"year\": \"2015-10\"\\n      },\\n      {\\n        \"count\": 79,\\n        \"year\": \"2015-11\"\\n      },\\n      {\\n        \"count\": 91,\\n        \"year\": \"2015-12\"\\n      },\\n      {\\n        \"count\": 52,\\n        \"year\": \"2016-01\"\\n      },\\n      {\\n        \"count\": 49,\\n        \"year\": \"2016-02\"\\n      },\\n      {\\n        \"count\": 73,\\n        \"year\": \"2016-03\"\\n      },\\n      {\\n        \"count\": 72,\\n        \"year\": \"2016-04\"\\n      },\\n      {\\n        \"count\": 82,\\n        \"year\": \"2016-05\"\\n      },\\n      {\\n        \"count\": 68,\\n        \"year\": \"2016-06\"\\n      },\\n      {\\n        \"count\": 60,\\n        \"year\": \"2016-07\"\\n      },\\n      {\\n        \"count\": 77,\\n        \"year\": \"2016-08\"\\n      },\\n      {\\n        \"count\": 63,\\n        \"year\": \"2016-09\"\\n      },\\n      {\\n        \"count\": 59,\\n        \"year\": \"2016-10\"\\n      },\\n      {\\n        \"count\": 62,\\n        \"year\": \"2016-11\"\\n      },\\n      {\\n        \"count\": 58,\\n        \"year\": \"2016-12\"\\n      },\\n      {\\n        \"count\": 37,\\n        \"year\": \"2017-01\"\\n      },\\n      {\\n        \"count\": 39,\\n        \"year\": \"2017-02\"\\n      },\\n      {\\n        \"count\": 51,\\n        \"year\": \"2017-03\"\\n      },\\n      {\\n        \"count\": 53,\\n        \"year\": \"2017-04\"\\n      },\\n      {\\n        \"count\": 75,\\n        \"year\": \"2017-05\"\\n      },\\n      {\\n        \"count\": 71,\\n        \"year\": \"2017-06\"\\n      },\\n      {\\n        \"count\": 63,\\n        \"year\": \"2017-07\"\\n      },\\n      {\\n        \"count\": 48,\\n        \"year\": \"2017-08\"\\n      },\\n      {\\n        \"count\": 93,\\n        \"year\": \"2017-09\"\\n      },\\n      {\\n        \"count\": 94,\\n        \"year\": \"2017-10\"\\n      },\\n      {\\n        \"count\": 54,\\n        \"year\": \"2017-11\"\\n      },\\n      {\\n        \"count\": 79,\\n        \"year\": \"2017-12\"\\n      }\\n    ]\\n  },\\n  \"encoding\": {\\n    \"x\": {\\n      \"field\": \"year\",\\n      \"type\": \"nominal\"\\n    },\\n    \"y\": {\\n      \"field\": \"count\",\\n      \"type\": \"quantitative\"\\n    }\\n  },\\n  \"mark\": \"line\"\\n}'"
      ]
     },
     "execution_count": 47,
     "metadata": {},
     "output_type": "execute_result"
    }
   ],
   "source": [
    "line.to_json()"
   ]
  },
  {
   "cell_type": "code",
   "execution_count": null,
   "metadata": {},
   "outputs": [],
   "source": []
  }
 ],
 "metadata": {
  "kernelspec": {
   "display_name": "viz",
   "language": "python",
   "name": "viz"
  },
  "language_info": {
   "codemirror_mode": {
    "name": "ipython",
    "version": 3
   },
   "file_extension": ".py",
   "mimetype": "text/x-python",
   "name": "python",
   "nbconvert_exporter": "python",
   "pygments_lexer": "ipython3",
   "version": "3.6.5"
  }
 },
 "nbformat": 4,
 "nbformat_minor": 2
}
