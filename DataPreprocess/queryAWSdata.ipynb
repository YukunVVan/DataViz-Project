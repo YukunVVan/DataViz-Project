{
 "cells": [
  {
   "cell_type": "code",
<<<<<<< HEAD
   "execution_count": 1,
   "metadata": {
    "ExecuteTime": {
     "end_time": "2018-05-05T20:07:39.059668Z",
     "start_time": "2018-05-05T20:07:37.370097Z"
    }
   },
=======
   "execution_count": 2,
   "metadata": {},
>>>>>>> de3497392c8c1caea8bf8382a5f8223523b18416
   "outputs": [
    {
     "name": "stderr",
     "output_type": "stream",
     "text": [
<<<<<<< HEAD
      "/Users/wanyukun/Documents/Dataviz/viz/lib/python3.6/site-packages/psycopg2/__init__.py:144: UserWarning: The psycopg2 wheel package will be renamed from release 2.8; in order to keep installing from binary please use \"pip install psycopg2-binary\" instead. For details see: <http://initd.org/psycopg/docs/install.html#binary-install-from-pypi>.\n",
=======
      "/anaconda3/lib/python3.6/site-packages/psycopg2/__init__.py:144: UserWarning: The psycopg2 wheel package will be renamed from release 2.8; in order to keep installing from binary please use \"pip install psycopg2-binary\" instead. For details see: <http://initd.org/psycopg/docs/install.html#binary-install-from-pypi>.\n",
>>>>>>> de3497392c8c1caea8bf8382a5f8223523b18416
      "  \"\"\")\n"
     ]
    }
   ],
   "source": [
    "#import altair as alt\n",
    "import pandas as pd\n",
    "import json\n",
    "import psycopg2"
   ]
  },
  {
   "cell_type": "code",
   "execution_count": 3,
<<<<<<< HEAD
   "metadata": {
    "ExecuteTime": {
     "end_time": "2018-05-05T20:08:23.312685Z",
     "start_time": "2018-05-05T20:08:23.305768Z"
    }
   },
=======
   "metadata": {},
>>>>>>> de3497392c8c1caea8bf8382a5f8223523b18416
   "outputs": [],
   "source": [
    "host = \"datavis.cauuh8vzeelb.us-east-1.rds.amazonaws.com\"\n",
    "database = \"top5\"\n",
    "user = \"teamwonder\"\n",
    "password = \"visproject\""
   ]
  },
  {
   "cell_type": "code",
<<<<<<< HEAD
   "execution_count": 74,
   "metadata": {
    "ExecuteTime": {
     "end_time": "2018-05-06T00:26:48.490271Z",
     "start_time": "2018-05-06T00:26:48.485296Z"
    }
   },
=======
   "execution_count": 4,
   "metadata": {},
>>>>>>> de3497392c8c1caea8bf8382a5f8223523b18416
   "outputs": [],
   "source": [
    "querytext = (\"SELECT * FROM tabletop5 \" +\n",
    "             \"WHERE date > '2016' and date < '2017' \")"
   ]
  },
  {
   "cell_type": "code",
<<<<<<< HEAD
   "execution_count": 75,
   "metadata": {
    "ExecuteTime": {
     "end_time": "2018-05-06T00:26:51.399551Z",
     "start_time": "2018-05-06T00:26:49.865526Z"
=======
   "execution_count": 5,
   "metadata": {},
   "outputs": [
    {
     "data": {
      "text/plain": [
       "(2,\n",
       " 1,\n",
       " 'Air Quality',\n",
       " '10023',\n",
       " Decimal('40.776106560588481'),\n",
       " Decimal('-73.979744680840554'),\n",
       " '2016-03-05',\n",
       " '0101000020E6100000F8A80823B47E52C023F8B37557634440')"
      ]
     },
     "execution_count": 5,
     "metadata": {},
     "output_type": "execute_result"
>>>>>>> de3497392c8c1caea8bf8382a5f8223523b18416
    }
   },
   "outputs": [],
   "source": [
    "con = psycopg2.connect(host=host, database=database, user=user, password=password)\n",
    "cur = con.cursor()\n",
    "cur.execute(querytext)\n",
    "rows = cur.fetchall()\n",
    "# rows[0]"
   ]
  },
  {
   "cell_type": "code",
<<<<<<< HEAD
   "execution_count": 76,
   "metadata": {
    "ExecuteTime": {
     "end_time": "2018-05-06T00:26:52.819427Z",
     "start_time": "2018-05-06T00:26:52.814356Z"
    }
   },
=======
   "execution_count": 6,
   "metadata": {},
>>>>>>> de3497392c8c1caea8bf8382a5f8223523b18416
   "outputs": [],
   "source": [
    "con.close()"
   ]
  },
  {
   "cell_type": "code",
<<<<<<< HEAD
   "execution_count": 77,
   "metadata": {
    "ExecuteTime": {
     "end_time": "2018-05-06T00:26:54.244215Z",
     "start_time": "2018-05-06T00:26:54.179539Z"
    }
   },
   "outputs": [],
   "source": [
    "columnname = ['id1','id','type','zipcode','lat','lng','date','geometry']\n",
    "df = pd.DataFrame(rows, columns=columnname)"
   ]
  },
  {
   "cell_type": "code",
   "execution_count": 78,
   "metadata": {
    "ExecuteTime": {
     "end_time": "2018-05-06T00:26:55.601019Z",
     "start_time": "2018-05-06T00:26:55.583726Z"
    }
   },
   "outputs": [
    {
     "data": {
      "text/html": [
       "<div>\n",
       "<style scoped>\n",
       "    .dataframe tbody tr th:only-of-type {\n",
       "        vertical-align: middle;\n",
       "    }\n",
       "\n",
       "    .dataframe tbody tr th {\n",
       "        vertical-align: top;\n",
       "    }\n",
       "\n",
       "    .dataframe thead th {\n",
       "        text-align: right;\n",
       "    }\n",
       "</style>\n",
       "<table border=\"1\" class=\"dataframe\">\n",
       "  <thead>\n",
       "    <tr style=\"text-align: right;\">\n",
       "      <th></th>\n",
       "      <th>id1</th>\n",
       "      <th>id</th>\n",
       "      <th>type</th>\n",
       "      <th>zipcode</th>\n",
       "      <th>lat</th>\n",
       "      <th>lng</th>\n",
       "      <th>date</th>\n",
       "      <th>geometry</th>\n",
       "    </tr>\n",
       "  </thead>\n",
       "  <tbody>\n",
       "    <tr>\n",
       "      <th>0</th>\n",
       "      <td>1</td>\n",
       "      <td>0</td>\n",
       "      <td>Taxi Complaint</td>\n",
       "      <td>10013</td>\n",
       "      <td>40.716813507635692</td>\n",
       "      <td>-73.997763435693585</td>\n",
       "      <td>2016-03-05</td>\n",
       "      <td>0101000020E6100000B55C2B5BDB7F52C02C50868BC05B...</td>\n",
       "    </tr>\n",
       "    <tr>\n",
       "      <th>1</th>\n",
       "      <td>2</td>\n",
       "      <td>1</td>\n",
       "      <td>Air Quality</td>\n",
       "      <td>10023</td>\n",
       "      <td>40.776106560588481</td>\n",
       "      <td>-73.979744680840554</td>\n",
       "      <td>2016-03-05</td>\n",
       "      <td>0101000020E6100000F8A80823B47E52C023F8B3755763...</td>\n",
       "    </tr>\n",
       "    <tr>\n",
       "      <th>2</th>\n",
       "      <td>3</td>\n",
       "      <td>2</td>\n",
       "      <td>Taxi Complaint</td>\n",
       "      <td>10001</td>\n",
       "      <td>40.752190473565570</td>\n",
       "      <td>-73.993463598395692</td>\n",
       "      <td>2016-03-05</td>\n",
       "      <td>0101000020E6100000103858E8947F52C0D72906C74760...</td>\n",
       "    </tr>\n",
       "    <tr>\n",
       "      <th>3</th>\n",
       "      <td>4</td>\n",
       "      <td>3</td>\n",
       "      <td>SAFETY</td>\n",
       "      <td>11213</td>\n",
       "      <td>40.674699099746043</td>\n",
       "      <td>-73.940894645676266</td>\n",
       "      <td>2016-03-04</td>\n",
       "      <td>0101000020E61000004F0A2D9E377C52C06306448A5C56...</td>\n",
       "    </tr>\n",
       "    <tr>\n",
       "      <th>4</th>\n",
       "      <td>5</td>\n",
       "      <td>4</td>\n",
       "      <td>Taxi Complaint</td>\n",
       "      <td>11215</td>\n",
       "      <td>40.673632947144348</td>\n",
       "      <td>-73.975363250436132</td>\n",
       "      <td>2016-03-05</td>\n",
       "      <td>0101000020E6100000FB95FB596C7E52C01DBFBA9A3956...</td>\n",
       "    </tr>\n",
       "  </tbody>\n",
       "</table>\n",
       "</div>"
      ],
      "text/plain": [
       "   id1  id            type zipcode                 lat                  lng  \\\n",
       "0    1   0  Taxi Complaint   10013  40.716813507635692  -73.997763435693585   \n",
       "1    2   1     Air Quality   10023  40.776106560588481  -73.979744680840554   \n",
       "2    3   2  Taxi Complaint   10001  40.752190473565570  -73.993463598395692   \n",
       "3    4   3          SAFETY   11213  40.674699099746043  -73.940894645676266   \n",
       "4    5   4  Taxi Complaint   11215  40.673632947144348  -73.975363250436132   \n",
       "\n",
       "         date                                           geometry  \n",
       "0  2016-03-05  0101000020E6100000B55C2B5BDB7F52C02C50868BC05B...  \n",
       "1  2016-03-05  0101000020E6100000F8A80823B47E52C023F8B3755763...  \n",
       "2  2016-03-05  0101000020E6100000103858E8947F52C0D72906C74760...  \n",
       "3  2016-03-04  0101000020E61000004F0A2D9E377C52C06306448A5C56...  \n",
       "4  2016-03-05  0101000020E6100000FB95FB596C7E52C01DBFBA9A3956...  "
      ]
     },
     "execution_count": 78,
     "metadata": {},
     "output_type": "execute_result"
    }
   ],
=======
   "execution_count": 7,
   "metadata": {},
   "outputs": [],
>>>>>>> de3497392c8c1caea8bf8382a5f8223523b18416
   "source": [
    "df.head()"
   ]
  },
  {
   "cell_type": "code",
   "execution_count": 8,
<<<<<<< HEAD
   "metadata": {
    "ExecuteTime": {
     "end_time": "2018-05-05T20:09:04.775352Z",
     "start_time": "2018-05-05T20:09:04.715872Z"
    }
   },
=======
   "metadata": {},
>>>>>>> de3497392c8c1caea8bf8382a5f8223523b18416
   "outputs": [
    {
     "data": {
      "text/html": [
       "<div>\n",
       "<style scoped>\n",
       "    .dataframe tbody tr th:only-of-type {\n",
       "        vertical-align: middle;\n",
       "    }\n",
       "\n",
       "    .dataframe tbody tr th {\n",
       "        vertical-align: top;\n",
       "    }\n",
       "\n",
       "    .dataframe thead th {\n",
       "        text-align: right;\n",
       "    }\n",
       "</style>\n",
       "<table border=\"1\" class=\"dataframe\">\n",
       "  <thead>\n",
       "    <tr style=\"text-align: right;\">\n",
       "      <th></th>\n",
       "      <th>zipcode</th>\n",
       "      <th>date</th>\n",
       "    </tr>\n",
       "  </thead>\n",
       "  <tbody>\n",
       "    <tr>\n",
       "      <th>0</th>\n",
       "      <td>10023</td>\n",
       "      <td>2016-03-05</td>\n",
       "    </tr>\n",
       "    <tr>\n",
       "      <th>1</th>\n",
       "      <td>11102</td>\n",
       "      <td>2016-03-05</td>\n",
       "    </tr>\n",
       "    <tr>\n",
       "      <th>2</th>\n",
       "      <td>11420</td>\n",
       "      <td>2016-03-05</td>\n",
       "    </tr>\n",
       "    <tr>\n",
       "      <th>3</th>\n",
       "      <td>10025</td>\n",
       "      <td>2016-03-05</td>\n",
       "    </tr>\n",
       "    <tr>\n",
       "      <th>4</th>\n",
       "      <td>10013</td>\n",
       "      <td>2016-03-05</td>\n",
       "    </tr>\n",
       "  </tbody>\n",
       "</table>\n",
       "</div>"
      ],
      "text/plain": [
       "  zipcode        date\n",
       "0   10023  2016-03-05\n",
       "1   11102  2016-03-05\n",
       "2   11420  2016-03-05\n",
       "3   10025  2016-03-05\n",
       "4   10013  2016-03-05"
      ]
     },
     "execution_count": 8,
     "metadata": {},
     "output_type": "execute_result"
    }
   ],
   "source": [
    "df_m = df[['zipcode', 'date']]\n",
    "df_m.head()"
   ]
  },
  {
   "cell_type": "code",
   "execution_count": 9,
<<<<<<< HEAD
   "metadata": {
    "ExecuteTime": {
     "end_time": "2018-05-05T20:09:09.953251Z",
     "start_time": "2018-05-05T20:09:09.945949Z"
    }
   },
=======
   "metadata": {},
>>>>>>> de3497392c8c1caea8bf8382a5f8223523b18416
   "outputs": [
    {
     "data": {
      "text/plain": [
       "(40896, 2)"
      ]
     },
     "execution_count": 9,
     "metadata": {},
     "output_type": "execute_result"
    }
   ],
   "source": [
    "df_m.shape"
   ]
  },
  {
   "cell_type": "code",
   "execution_count": 10,
   "metadata": {},
   "outputs": [
    {
     "data": {
      "text/html": [
       "<div>\n",
       "<style scoped>\n",
       "    .dataframe tbody tr th:only-of-type {\n",
       "        vertical-align: middle;\n",
       "    }\n",
       "\n",
       "    .dataframe tbody tr th {\n",
       "        vertical-align: top;\n",
       "    }\n",
       "\n",
       "    .dataframe thead th {\n",
       "        text-align: right;\n",
       "    }\n",
       "</style>\n",
       "<table border=\"1\" class=\"dataframe\">\n",
       "  <thead>\n",
       "    <tr style=\"text-align: right;\">\n",
       "      <th></th>\n",
       "      <th>zipcode</th>\n",
       "      <th>count</th>\n",
       "    </tr>\n",
       "  </thead>\n",
       "  <tbody>\n",
       "    <tr>\n",
       "      <th>0</th>\n",
       "      <td>10000</td>\n",
       "      <td>1</td>\n",
       "    </tr>\n",
       "    <tr>\n",
       "      <th>1</th>\n",
       "      <td>10001</td>\n",
       "      <td>508</td>\n",
       "    </tr>\n",
       "    <tr>\n",
       "      <th>2</th>\n",
       "      <td>10002</td>\n",
       "      <td>570</td>\n",
       "    </tr>\n",
       "    <tr>\n",
       "      <th>3</th>\n",
       "      <td>10003</td>\n",
       "      <td>1100</td>\n",
       "    </tr>\n",
       "    <tr>\n",
       "      <th>4</th>\n",
       "      <td>10004</td>\n",
       "      <td>140</td>\n",
       "    </tr>\n",
       "  </tbody>\n",
       "</table>\n",
       "</div>"
      ],
      "text/plain": [
       "  zipcode  count\n",
       "0   10000      1\n",
       "1   10001    508\n",
       "2   10002    570\n",
       "3   10003   1100\n",
       "4   10004    140"
      ]
     },
     "execution_count": 10,
     "metadata": {},
     "output_type": "execute_result"
    }
   ],
   "source": [
    "casebyzip = df_m.groupby(by='zipcode', as_index=False).count()\n",
    "casebyzip.columns = ['zipcode','count']\n",
    "casebyzip.head()"
   ]
  },
  {
   "cell_type": "code",
<<<<<<< HEAD
   "execution_count": 42,
   "metadata": {
    "ExecuteTime": {
     "end_time": "2018-05-05T20:46:47.621157Z",
     "start_time": "2018-05-05T20:46:47.615449Z"
    }
   },
   "outputs": [
    {
     "data": {
      "text/plain": [
       "[('10001', 508)]"
      ]
     },
     "execution_count": 42,
     "metadata": {},
     "output_type": "execute_result"
    }
   ],
   "source": [
    "rows[:5]"
   ]
  },
  {
   "cell_type": "code",
   "execution_count": 21,
=======
   "execution_count": 12,
>>>>>>> de3497392c8c1caea8bf8382a5f8223523b18416
   "metadata": {},
   "outputs": [
    {
     "data": {
      "text/html": [
       "<div>\n",
       "<style scoped>\n",
       "    .dataframe tbody tr th:only-of-type {\n",
       "        vertical-align: middle;\n",
       "    }\n",
       "\n",
       "    .dataframe tbody tr th {\n",
       "        vertical-align: top;\n",
       "    }\n",
       "\n",
       "    .dataframe thead th {\n",
       "        text-align: right;\n",
       "    }\n",
       "</style>\n",
       "<table border=\"1\" class=\"dataframe\">\n",
       "  <thead>\n",
       "    <tr style=\"text-align: right;\">\n",
       "      <th></th>\n",
       "      <th>date</th>\n",
       "      <th>count</th>\n",
       "    </tr>\n",
       "  </thead>\n",
       "  <tbody>\n",
       "    <tr>\n",
       "      <th>0</th>\n",
       "      <td>2013-01-01</td>\n",
       "      <td>2</td>\n",
       "    </tr>\n",
       "    <tr>\n",
       "      <th>1</th>\n",
       "      <td>2013-01-02</td>\n",
       "      <td>8</td>\n",
       "    </tr>\n",
       "    <tr>\n",
       "      <th>2</th>\n",
       "      <td>2013-01-03</td>\n",
       "      <td>20</td>\n",
       "    </tr>\n",
       "    <tr>\n",
       "      <th>3</th>\n",
       "      <td>2013-01-04</td>\n",
       "      <td>18</td>\n",
       "    </tr>\n",
       "    <tr>\n",
       "      <th>4</th>\n",
       "      <td>2013-01-05</td>\n",
       "      <td>5</td>\n",
       "    </tr>\n",
       "  </tbody>\n",
       "</table>\n",
       "</div>"
      ],
      "text/plain": [
       "         date  count\n",
       "0  2013-01-01      2\n",
       "1  2013-01-02      8\n",
       "2  2013-01-03     20\n",
       "3  2013-01-04     18\n",
       "4  2013-01-05      5"
      ]
     },
     "execution_count": 12,
     "metadata": {},
     "output_type": "execute_result"
    }
   ],
   "source": [
    "casebydate = df_m.groupby(by='date', as_index=False).count()\n",
    "casebydate.columns = ['date','count']\n",
    "casebydate.head()"
   ]
  },
  {
   "cell_type": "code",
   "execution_count": null,
   "metadata": {},
   "outputs": [],
   "source": []
  },
  {
   "cell_type": "code",
   "execution_count": null,
   "metadata": {},
   "outputs": [],
   "source": []
  },
  {
   "cell_type": "code",
   "execution_count": null,
   "metadata": {},
   "outputs": [],
   "source": []
  },
  {
   "cell_type": "code",
   "execution_count": 81,
   "metadata": {
    "ExecuteTime": {
     "end_time": "2018-05-06T00:30:14.378416Z",
     "start_time": "2018-05-06T00:30:14.371500Z"
    }
   },
   "outputs": [],
   "source": [
    "def getData(by,filter):\n",
    "    host = \"datavis.cauuh8vzeelb.us-east-1.rds.amazonaws.com\"\n",
    "    database = \"top5\"\n",
    "    user = \"teamwonder\"\n",
    "    password = \"visproject\"\n",
    "\n",
    "    qfilter = []\n",
    "    for f in filter:\n",
    "        if filter[f] == 'all':\n",
    "            continue\n",
    "        if f == \"fromyear\":\n",
    "            qfilter.append(\"date > \"+str(filter[f]))\n",
    "            continue\n",
    "        if f == \"toyear\":\n",
    "            qfilter.append(\"date < \"+str(filter[f]))\n",
    "            continue\n",
    "        qfilter.append(str(f)+' = '+str(filter[f]))\n",
    "        \n",
    "    if qfilter:\n",
    "        querytext = (\"SELECT \" + by + \", COUNT(gid) FROM tabletop5 \" +\n",
    "                     \"WHERE \" + \" AND \".join(qfilter) + \" GROUP BY \"+ by + \";\")\n",
    "    else:\n",
    "        querytext = (\"SELECT \" + by + \", COUNT(gid) FROM tabletop5 \" +\n",
    "                     \" GROUP BY \"+ by + \";\")\n",
    "    print(querytext)\n",
    "    con = psycopg2.connect(host=host, database=database, user=user, password=password)\n",
    "    cur = con.cursor()\n",
    "    cur.execute(querytext)\n",
    "    rows = cur.fetchall()\n",
    "    return rows"
   ]
  },
  {
   "cell_type": "code",
   "execution_count": 85,
   "metadata": {
    "ExecuteTime": {
     "end_time": "2018-05-06T00:40:37.532842Z",
     "start_time": "2018-05-06T00:40:37.508484Z"
    }
   },
   "outputs": [],
   "source": [
    "by = \"complaint_\"\n",
    "filter = {\"incident_z\":\"'10002'\",\"complaint_\":\"all\",\"fromyear\": \"all\", \"toyear\":\"'2017'\"}"
   ]
  },
  {
   "cell_type": "code",
   "execution_count": 86,
   "metadata": {
    "ExecuteTime": {
     "end_time": "2018-05-06T00:40:38.713250Z",
     "start_time": "2018-05-06T00:40:38.407539Z"
    }
   },
   "outputs": [
    {
     "name": "stdout",
     "output_type": "stream",
     "text": [
      "SELECT complaint_, COUNT(gid) FROM tabletop5 WHERE incident_z = '10002' AND date < '2017' GROUP BY complaint_;\n"
     ]
    },
    {
     "data": {
      "text/plain": [
       "[('Air Quality', 450),\n",
       " ('New Tree Request', 370),\n",
       " ('SAFETY', 180),\n",
       " ('Taxi Complaint', 1304),\n",
       " ('Traffic', 150)]"
      ]
     },
     "execution_count": 86,
     "metadata": {},
     "output_type": "execute_result"
    }
   ],
   "source": [
    "getData(by,filter)"
   ]
  },
  {
   "cell_type": "code",
   "execution_count": null,
   "metadata": {},
   "outputs": [],
   "source": []
  }
 ],
 "metadata": {
  "kernelspec": {
   "display_name": "viz",
   "language": "python",
   "name": "viz"
  },
  "language_info": {
   "codemirror_mode": {
    "name": "ipython",
    "version": 3
   },
   "file_extension": ".py",
   "mimetype": "text/x-python",
   "name": "python",
   "nbconvert_exporter": "python",
   "pygments_lexer": "ipython3",
   "version": "3.6.5"
  }
 },
 "nbformat": 4,
 "nbformat_minor": 2
}
